{
 "cells": [
  {
   "cell_type": "code",
   "execution_count": 1,
   "id": "4f1e3dee",
   "metadata": {},
   "outputs": [
    {
     "name": "stdout",
     "output_type": "stream",
     "text": [
      "shreya bangale\n"
     ]
    }
   ],
   "source": [
    "print(\"shreya bangale\")"
   ]
  },
  {
   "cell_type": "code",
   "execution_count": 4,
   "id": "e572cca4",
   "metadata": {},
   "outputs": [],
   "source": [
    "a = 20  \n",
    "# a => variable\n",
    "# = => assignment operator\n",
    "# 20 => Data"
   ]
  },
  {
   "cell_type": "code",
   "execution_count": 5,
   "id": "ccea9f70",
   "metadata": {},
   "outputs": [
    {
     "data": {
      "text/plain": [
       "20"
      ]
     },
     "execution_count": 5,
     "metadata": {},
     "output_type": "execute_result"
    }
   ],
   "source": [
    "a"
   ]
  },
  {
   "cell_type": "code",
   "execution_count": 6,
   "id": "0f8b4bd7",
   "metadata": {},
   "outputs": [
    {
     "name": "stdout",
     "output_type": "stream",
     "text": [
      "20\n"
     ]
    }
   ],
   "source": [
    "print(a) \n",
    "#i/o command "
   ]
  },
  {
   "cell_type": "code",
   "execution_count": 8,
   "id": "ffab1093",
   "metadata": {},
   "outputs": [
    {
     "name": "stdout",
     "output_type": "stream",
     "text": [
      "Shreya\n"
     ]
    }
   ],
   "source": [
    "a = \"Shreya\"\n",
    "a = 'Shreya'\n",
    "a = '''Shreya'''\n",
    "# \" \" => string \n",
    "print(a)"
   ]
  },
  {
   "cell_type": "code",
   "execution_count": 9,
   "id": "0df7c897",
   "metadata": {},
   "outputs": [
    {
     "name": "stdout",
     "output_type": "stream",
     "text": [
      "shreyaBangale\n"
     ]
    }
   ],
   "source": [
    "a = \"shreya\"\n",
    "b = \"Bangale\"\n",
    "c = a+b #use to conatenate two strings \n",
    "print(c)"
   ]
  },
  {
   "cell_type": "code",
   "execution_count": 11,
   "id": "0e58a097",
   "metadata": {},
   "outputs": [
    {
     "name": "stdout",
     "output_type": "stream",
     "text": [
      "shreya\n",
      "bangale\n"
     ]
    }
   ],
   "source": [
    "print(\"shreya\\nbangale\")  "
   ]
  },
  {
   "cell_type": "code",
   "execution_count": 12,
   "id": "c0e57729",
   "metadata": {},
   "outputs": [
    {
     "name": "stdout",
     "output_type": "stream",
     "text": [
      "shreya\tbangale\n"
     ]
    }
   ],
   "source": [
    "print(\"shreya\\tbangale\")"
   ]
  },
  {
   "cell_type": "code",
   "execution_count": 13,
   "id": "b9c40bf9",
   "metadata": {},
   "outputs": [],
   "source": [
    "a = 20"
   ]
  },
  {
   "cell_type": "code",
   "execution_count": 14,
   "id": "4d6b2312",
   "metadata": {},
   "outputs": [
    {
     "data": {
      "text/plain": [
       "int"
      ]
     },
     "execution_count": 14,
     "metadata": {},
     "output_type": "execute_result"
    }
   ],
   "source": [
    "type(a)"
   ]
  },
  {
   "cell_type": "code",
   "execution_count": 15,
   "id": "7036cf33",
   "metadata": {},
   "outputs": [],
   "source": [
    "a = \"shreya\""
   ]
  },
  {
   "cell_type": "code",
   "execution_count": 16,
   "id": "83fb8b09",
   "metadata": {},
   "outputs": [
    {
     "data": {
      "text/plain": [
       "str"
      ]
     },
     "execution_count": 16,
     "metadata": {},
     "output_type": "execute_result"
    }
   ],
   "source": [
    "type(a)"
   ]
  },
  {
   "cell_type": "code",
   "execution_count": null,
   "id": "0e45c942",
   "metadata": {},
   "outputs": [],
   "source": []
  },
  {
   "cell_type": "code",
   "execution_count": null,
   "id": "c2db8cfc",
   "metadata": {},
   "outputs": [],
   "source": []
  }
 ],
 "metadata": {
  "kernelspec": {
   "display_name": "Python 3 (ipykernel)",
   "language": "python",
   "name": "python3"
  },
  "language_info": {
   "codemirror_mode": {
    "name": "ipython",
    "version": 3
   },
   "file_extension": ".py",
   "mimetype": "text/x-python",
   "name": "python",
   "nbconvert_exporter": "python",
   "pygments_lexer": "ipython3",
   "version": "3.9.7"
  }
 },
 "nbformat": 4,
 "nbformat_minor": 5
}
