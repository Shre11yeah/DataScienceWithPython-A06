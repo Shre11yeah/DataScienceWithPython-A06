{
 "cells": [
  {
   "cell_type": "markdown",
   "id": "1d0a8b7c",
   "metadata": {},
   "source": [
    "# DICTIONARY\n",
    "#dictionary is an unordered collection of key value pairs enclosed with {}\n",
    "#indexing is not allowed \n",
    "#slicing is not allowed \n",
    "#dictionary is mutable"
   ]
  },
  {
   "cell_type": "markdown",
   "id": "d110598f",
   "metadata": {},
   "source": [
    "Dictionary is a part of data structure"
   ]
  },
  {
   "cell_type": "code",
   "execution_count": 2,
   "id": "053b1774",
   "metadata": {},
   "outputs": [
    {
     "data": {
      "text/plain": [
       "dict"
      ]
     },
     "execution_count": 2,
     "metadata": {},
     "output_type": "execute_result"
    }
   ],
   "source": [
    "D = {\"ashish\":10,\"shreya\":20,\"shruti\":30,\"aabha\":40}\n",
    "type(D)"
   ]
  },
  {
   "cell_type": "code",
   "execution_count": 3,
   "id": "be1ad3ae",
   "metadata": {},
   "outputs": [
    {
     "data": {
      "text/plain": [
       "{'ashish': 10, 'shreya': 20, 'shruti': 30, 'aabha': 40}"
      ]
     },
     "execution_count": 3,
     "metadata": {},
     "output_type": "execute_result"
    }
   ],
   "source": [
    "D"
   ]
  },
  {
   "cell_type": "code",
   "execution_count": 5,
   "id": "cac0ce57",
   "metadata": {},
   "outputs": [
    {
     "data": {
      "text/plain": [
       "4"
      ]
     },
     "execution_count": 5,
     "metadata": {},
     "output_type": "execute_result"
    }
   ],
   "source": [
    "len(D)"
   ]
  },
  {
   "cell_type": "code",
   "execution_count": 6,
   "id": "528b3e18",
   "metadata": {},
   "outputs": [
    {
     "data": {
      "text/plain": [
       "{'ashish': 10, 'shreya': 20, 'shruti': 30, 'aabha': 40}"
      ]
     },
     "execution_count": 6,
     "metadata": {},
     "output_type": "execute_result"
    }
   ],
   "source": [
    "D"
   ]
  },
  {
   "cell_type": "code",
   "execution_count": 7,
   "id": "1620aad4",
   "metadata": {},
   "outputs": [
    {
     "name": "stdout",
     "output_type": "stream",
     "text": [
      "{'ashish': 10, 'shreya': 20, 'shruti': 30, 'aabha': 40}\n"
     ]
    }
   ],
   "source": [
    "print(D)"
   ]
  },
  {
   "cell_type": "code",
   "execution_count": 9,
   "id": "c2a009fe",
   "metadata": {},
   "outputs": [
    {
     "data": {
      "text/plain": [
       "dict_keys(['ashish', 'shreya', 'shruti', 'aabha'])"
      ]
     },
     "execution_count": 9,
     "metadata": {},
     "output_type": "execute_result"
    }
   ],
   "source": [
    "# extracting keys from dictionary python\n",
    "D = {\"ashish\":10,\"shreya\":20,\"shruti\":30,\"aabha\":40}\n",
    "D.keys()"
   ]
  },
  {
   "cell_type": "code",
   "execution_count": 10,
   "id": "60fc236d",
   "metadata": {},
   "outputs": [
    {
     "data": {
      "text/plain": [
       "dict_values([10, 20, 30, 40])"
      ]
     },
     "execution_count": 10,
     "metadata": {},
     "output_type": "execute_result"
    }
   ],
   "source": [
    "#extracting values from dictionary python \n",
    "D = {\"ashish\":10,\"shreya\":20,\"shruti\":30,\"aabha\":40}\n",
    "D.values()"
   ]
  },
  {
   "cell_type": "code",
   "execution_count": 11,
   "id": "9f720962",
   "metadata": {},
   "outputs": [
    {
     "name": "stdout",
     "output_type": "stream",
     "text": [
      "{'ashish': 10, 'shreya': 20, 'shruti': 30, 'aabha': 40, 'sejal': 50}\n"
     ]
    }
   ],
   "source": [
    "#Adding new element to python dictionary \n",
    "D = {\"ashish\":10,\"shreya\":20,\"shruti\":30,\"aabha\":40}\n",
    "D[\"sejal\"]=50\n",
    "print(D)"
   ]
  },
  {
   "cell_type": "code",
   "execution_count": 12,
   "id": "6db9e84f",
   "metadata": {},
   "outputs": [
    {
     "name": "stdout",
     "output_type": "stream",
     "text": [
      "{'ashish': 10, 'shreya': 60, 'shruti': 30, 'aabha': 40}\n"
     ]
    }
   ],
   "source": [
    "#changing an existing element to python dictionary \n",
    "D = {\"ashish\":10,\"shreya\":20,\"shruti\":30,\"aabha\":40}\n",
    "D[\"shreya\"]=60\n",
    "print(D)"
   ]
  },
  {
   "cell_type": "code",
   "execution_count": 14,
   "id": "6c4bd0d4",
   "metadata": {},
   "outputs": [
    {
     "name": "stdout",
     "output_type": "stream",
     "text": [
      "{'ashish': 10, 'aabha': 20, 'sejal': 33, 'shruti': 40}\n"
     ]
    }
   ],
   "source": [
    "# update one dictionary element with another dictionary\n",
    "D1 = {\"ashish\":10,\"aabha\":20}\n",
    "D2 = {\"sejal\":33,\"shruti\":40}\n",
    "D1.update(D2)\n",
    "print(D1)"
   ]
  },
  {
   "cell_type": "code",
   "execution_count": 16,
   "id": "c4cecd48",
   "metadata": {},
   "outputs": [
    {
     "name": "stdout",
     "output_type": "stream",
     "text": [
      "{'ashish': 10, 'shruti': 30, 'aabha': 40}\n"
     ]
    }
   ],
   "source": [
    "# popping element dictionary in python \n",
    "D = {\"ashish\":10,\"shreya\":20,\"shruti\":30,\"aabha\":40}\n",
    "D.pop(\"shreya\")\n",
    "print(D)"
   ]
  },
  {
   "cell_type": "code",
   "execution_count": 17,
   "id": "1d74692e",
   "metadata": {},
   "outputs": [
    {
     "ename": "TypeError",
     "evalue": "pop expected at least 1 argument, got 0",
     "output_type": "error",
     "traceback": [
      "\u001b[1;31m---------------------------------------------------------------------------\u001b[0m",
      "\u001b[1;31mTypeError\u001b[0m                                 Traceback (most recent call last)",
      "\u001b[1;32m~\\AppData\\Local\\Temp/ipykernel_7584/3849316029.py\u001b[0m in \u001b[0;36m<module>\u001b[1;34m\u001b[0m\n\u001b[0;32m      1\u001b[0m \u001b[0mD\u001b[0m \u001b[1;33m=\u001b[0m \u001b[1;33m{\u001b[0m\u001b[1;34m\"ashish\"\u001b[0m\u001b[1;33m:\u001b[0m\u001b[1;36m10\u001b[0m\u001b[1;33m,\u001b[0m\u001b[1;34m\"shreya\"\u001b[0m\u001b[1;33m:\u001b[0m\u001b[1;36m20\u001b[0m\u001b[1;33m,\u001b[0m\u001b[1;34m\"shruti\"\u001b[0m\u001b[1;33m:\u001b[0m\u001b[1;36m30\u001b[0m\u001b[1;33m,\u001b[0m\u001b[1;34m\"aabha\"\u001b[0m\u001b[1;33m:\u001b[0m\u001b[1;36m40\u001b[0m\u001b[1;33m}\u001b[0m\u001b[1;33m\u001b[0m\u001b[1;33m\u001b[0m\u001b[0m\n\u001b[1;32m----> 2\u001b[1;33m \u001b[0mD\u001b[0m\u001b[1;33m.\u001b[0m\u001b[0mpop\u001b[0m\u001b[1;33m(\u001b[0m\u001b[1;33m)\u001b[0m\u001b[1;33m\u001b[0m\u001b[1;33m\u001b[0m\u001b[0m\n\u001b[0m\u001b[0;32m      3\u001b[0m \u001b[0mprint\u001b[0m\u001b[1;33m(\u001b[0m\u001b[0mD\u001b[0m\u001b[1;33m)\u001b[0m\u001b[1;33m\u001b[0m\u001b[1;33m\u001b[0m\u001b[0m\n",
      "\u001b[1;31mTypeError\u001b[0m: pop expected at least 1 argument, got 0"
     ]
    }
   ],
   "source": [
    "D = {\"ashish\":10,\"shreya\":20,\"shruti\":30,\"aabha\":40}\n",
    "D.pop()\n",
    "print(D)"
   ]
  },
  {
   "cell_type": "code",
   "execution_count": null,
   "id": "dcee5d05",
   "metadata": {},
   "outputs": [],
   "source": []
  },
  {
   "cell_type": "code",
   "execution_count": null,
   "id": "df6ffe98",
   "metadata": {},
   "outputs": [],
   "source": []
  },
  {
   "cell_type": "code",
   "execution_count": null,
   "id": "10602f79",
   "metadata": {},
   "outputs": [],
   "source": []
  },
  {
   "cell_type": "code",
   "execution_count": null,
   "id": "44768d24",
   "metadata": {},
   "outputs": [],
   "source": []
  }
 ],
 "metadata": {
  "kernelspec": {
   "display_name": "Python 3 (ipykernel)",
   "language": "python",
   "name": "python3"
  },
  "language_info": {
   "codemirror_mode": {
    "name": "ipython",
    "version": 3
   },
   "file_extension": ".py",
   "mimetype": "text/x-python",
   "name": "python",
   "nbconvert_exporter": "python",
   "pygments_lexer": "ipython3",
   "version": "3.9.7"
  }
 },
 "nbformat": 4,
 "nbformat_minor": 5
}
