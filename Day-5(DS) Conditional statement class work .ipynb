{
 "cells": [
  {
   "cell_type": "markdown",
   "id": "55db7777",
   "metadata": {},
   "source": [
    "# CLASS WORK"
   ]
  },
  {
   "cell_type": "markdown",
   "id": "8a619895",
   "metadata": {},
   "source": [
    "1)WAP to check wheather the person is eligible for votting "
   ]
  },
  {
   "cell_type": "code",
   "execution_count": 1,
   "id": "1c8bddfa",
   "metadata": {},
   "outputs": [
    {
     "name": "stdout",
     "output_type": "stream",
     "text": [
      "enter your age19\n",
      "person is eligible for votting\n"
     ]
    }
   ],
   "source": [
    "a = int(input(\"enter your age\"))\n",
    "if a>=18:\n",
    "    print(\"person is eligible for votting\")\n",
    "    \n",
    "else:\n",
    "    print(\"person is not eligible for votting\")"
   ]
  },
  {
   "cell_type": "markdown",
   "id": "71de18bc",
   "metadata": {},
   "source": [
    "2) WAP to check wheather no. entered by user is even or odd"
   ]
  },
  {
   "cell_type": "code",
   "execution_count": 2,
   "id": "3f3af575",
   "metadata": {},
   "outputs": [
    {
     "name": "stdout",
     "output_type": "stream",
     "text": [
      "enter number6\n",
      "number is even\n"
     ]
    }
   ],
   "source": [
    "a = int(input(\"enter number\"))\n",
    "if a%2==0:\n",
    "    print(\"number is even\")\n",
    "    \n",
    "else:\n",
    "    print(\"number is odd\")"
   ]
  },
  {
   "cell_type": "markdown",
   "id": "d441cf0e",
   "metadata": {},
   "source": [
    "3) WAP to check wheather number is divisible by 7 or not "
   ]
  },
  {
   "cell_type": "code",
   "execution_count": 3,
   "id": "6b027407",
   "metadata": {},
   "outputs": [
    {
     "name": "stdout",
     "output_type": "stream",
     "text": [
      "enter number22\n",
      "number is not divisible by 7\n"
     ]
    }
   ],
   "source": [
    "a = int(input(\"enter number\"))\n",
    "if a%7==0:\n",
    "    print(\"number is divisible by 7\")\n",
    "    \n",
    "else:\n",
    "    print(\"number is not divisible by 7\")"
   ]
  },
  {
   "cell_type": "markdown",
   "id": "32c9719f",
   "metadata": {},
   "source": [
    "4) WAP to check wheather the number is divisible by 2 and 3 both"
   ]
  },
  {
   "cell_type": "code",
   "execution_count": 4,
   "id": "36f24e2e",
   "metadata": {},
   "outputs": [
    {
     "name": "stdout",
     "output_type": "stream",
     "text": [
      "enter number6\n",
      "number is divisible by both 2 and 3\n"
     ]
    }
   ],
   "source": [
    "a = int(input(\"enter number\"))\n",
    "if a%2==0 & a%3==0:\n",
    "    print(\"number is divisible by both 2 and 3\")\n",
    "    \n",
    "else:\n",
    "    print(\"number is not divisible by 2 and 3 \")"
   ]
  },
  {
   "cell_type": "markdown",
   "id": "6a8d6f21",
   "metadata": {},
   "source": [
    "5) WAP to display Hello if number entered by user is divisible by five"
   ]
  },
  {
   "cell_type": "code",
   "execution_count": 5,
   "id": "72aeaaf8",
   "metadata": {},
   "outputs": [
    {
     "name": "stdout",
     "output_type": "stream",
     "text": [
      "enter number55\n",
      "Hello\n"
     ]
    }
   ],
   "source": [
    "a = int(input(\"enter number\"))\n",
    "if a%5==0:\n",
    "    print(\"Hello\")"
   ]
  }
 ],
 "metadata": {
  "kernelspec": {
   "display_name": "Python 3 (ipykernel)",
   "language": "python",
   "name": "python3"
  },
  "language_info": {
   "codemirror_mode": {
    "name": "ipython",
    "version": 3
   },
   "file_extension": ".py",
   "mimetype": "text/x-python",
   "name": "python",
   "nbconvert_exporter": "python",
   "pygments_lexer": "ipython3",
   "version": "3.9.7"
  }
 },
 "nbformat": 4,
 "nbformat_minor": 5
}
