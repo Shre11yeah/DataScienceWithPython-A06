{
 "cells": [
  {
   "cell_type": "markdown",
   "id": "6f06eff9",
   "metadata": {},
   "source": [
    "# CONDITIONAL STATEMENT"
   ]
  },
  {
   "cell_type": "markdown",
   "id": "cf9c599e",
   "metadata": {},
   "source": [
    "# Types of conditional statement \n",
    "# 1)IF statement\n",
    "# 2)if else\n",
    "# 3)nested if \n",
    "# 4)ladder if"
   ]
  },
  {
   "cell_type": "code",
   "execution_count": 1,
   "id": "5c3b98f6",
   "metadata": {},
   "outputs": [
    {
     "name": "stdout",
     "output_type": "stream",
     "text": [
      "a is greater than b\n"
     ]
    }
   ],
   "source": [
    "# if statement \n",
    "a = 5\n",
    "b = 3\n",
    "if (a>b):\n",
    "    print(\"a is greater than b\")"
   ]
  },
  {
   "cell_type": "code",
   "execution_count": 2,
   "id": "4c41e71f",
   "metadata": {},
   "outputs": [
    {
     "name": "stdout",
     "output_type": "stream",
     "text": [
      "enter your roll no.\n"
     ]
    }
   ],
   "source": [
    "print(\"enter your roll no.\")"
   ]
  },
  {
   "cell_type": "code",
   "execution_count": 3,
   "id": "74ffc010",
   "metadata": {
    "scrolled": true
   },
   "outputs": [
    {
     "name": "stdout",
     "output_type": "stream",
     "text": [
      "shreya4\n",
      "4\n"
     ]
    }
   ],
   "source": [
    "x = input(\"shreya\")\n",
    "print(x)"
   ]
  },
  {
   "cell_type": "code",
   "execution_count": 4,
   "id": "33b09d15",
   "metadata": {},
   "outputs": [],
   "source": [
    "# if else"
   ]
  },
  {
   "cell_type": "code",
   "execution_count": 5,
   "id": "80849cb7",
   "metadata": {},
   "outputs": [
    {
     "name": "stdout",
     "output_type": "stream",
     "text": [
      "student will get placed\n"
     ]
    }
   ],
   "source": [
    "percentage = 80\n",
    "if(percentage>60):\n",
    "    print(\"student will get placed\")\n",
    "else:\n",
    "    print(\"student will not placed\")\n",
    "    \n",
    "\n",
    "    "
   ]
  },
  {
   "cell_type": "code",
   "execution_count": 6,
   "id": "2099e57e",
   "metadata": {},
   "outputs": [
    {
     "name": "stdout",
     "output_type": "stream",
     "text": [
      "enter the value of a\n",
      "None1\n",
      "enter the value of b\n",
      "None4\n",
      "b is greater than a,b= 4\n"
     ]
    }
   ],
   "source": [
    "a = int(input(print(\"enter the value of a\")))\n",
    "b = int(input(print(\"enter the value of b\")))\n",
    "if a>b:\n",
    "    print(\"a is greater than b,a=\",a)\n",
    "else:\n",
    "    print(\"b is greater than a,b=\",b)\n"
   ]
  }
 ],
 "metadata": {
  "kernelspec": {
   "display_name": "Python 3 (ipykernel)",
   "language": "python",
   "name": "python3"
  },
  "language_info": {
   "codemirror_mode": {
    "name": "ipython",
    "version": 3
   },
   "file_extension": ".py",
   "mimetype": "text/x-python",
   "name": "python",
   "nbconvert_exporter": "python",
   "pygments_lexer": "ipython3",
   "version": "3.9.7"
  }
 },
 "nbformat": 4,
 "nbformat_minor": 5
}
